{
  "nbformat": 4,
  "nbformat_minor": 0,
  "metadata": {
    "colab": {
      "name": "Untitled0.ipynb",
      "provenance": [],
      "collapsed_sections": []
    },
    "kernelspec": {
      "name": "python3",
      "display_name": "Python 3"
    }
  },
  "cells": [
    {
      "cell_type": "code",
      "metadata": {
        "id": "pmI7KmsCGDDA",
        "colab_type": "code",
        "colab": {}
      },
      "source": [
        "import sqlite3 # Once imported in a single notebook, it is available to us throughout the rest of the notebook. \n",
        "# connect to database, if not there, create it.\n",
        "connectionToDatabase = sqlite3.connect('Sneakers') \n",
        "cursor = connectionToDatabase.cursor()\n",
        "\n"
      ],
      "execution_count": 0,
      "outputs": []
    },
    {
      "cell_type": "code",
      "metadata": {
        "id": "LsiyyRUeY6Ir",
        "colab_type": "code",
        "colab": {
          "base_uri": "https://localhost:8080/",
          "height": 231
        },
        "outputId": "ddb52a8c-da93-43c4-bb33-51b6f7e624da"
      },
      "source": [
        "cursor.execute('''drop table IF EXISTS Sneaker''')\n",
        "connectionToDatabase.commit()\n",
        "\n",
        "cursor.execute('''create table sneaker (sneakerID text PRIMARY KEY, brand text, color text, company text)''')\n",
        "connectionToDatabase.commit()"
      ],
      "execution_count": 37,
      "outputs": [
        {
          "output_type": "error",
          "ename": "OperationalError",
          "evalue": "ignored",
          "traceback": [
            "\u001b[0;31m---------------------------------------------------------------------------\u001b[0m",
            "\u001b[0;31mOperationalError\u001b[0m                          Traceback (most recent call last)",
            "\u001b[0;32m<ipython-input-37-774dce4ab6a1>\u001b[0m in \u001b[0;36m<module>\u001b[0;34m()\u001b[0m\n\u001b[0;32m----> 1\u001b[0;31m \u001b[0mcursor\u001b[0m\u001b[0;34m.\u001b[0m\u001b[0mexecute\u001b[0m\u001b[0;34m(\u001b[0m\u001b[0;34m'''drop table IF EXISTS Sneaker'''\u001b[0m\u001b[0;34m)\u001b[0m\u001b[0;34m\u001b[0m\u001b[0;34m\u001b[0m\u001b[0m\n\u001b[0m\u001b[1;32m      2\u001b[0m \u001b[0mconnectionToDatabase\u001b[0m\u001b[0;34m.\u001b[0m\u001b[0mcommit\u001b[0m\u001b[0;34m(\u001b[0m\u001b[0;34m)\u001b[0m\u001b[0;34m\u001b[0m\u001b[0;34m\u001b[0m\u001b[0m\n\u001b[1;32m      3\u001b[0m \u001b[0;34m\u001b[0m\u001b[0m\n\u001b[1;32m      4\u001b[0m \u001b[0mcursor\u001b[0m\u001b[0;34m.\u001b[0m\u001b[0mexecute\u001b[0m\u001b[0;34m(\u001b[0m\u001b[0;34m'''create table sneaker (sneakerID text PRIMARY KEY, brand text, color text, company text)'''\u001b[0m\u001b[0;34m)\u001b[0m\u001b[0;34m\u001b[0m\u001b[0;34m\u001b[0m\u001b[0m\n\u001b[1;32m      5\u001b[0m \u001b[0mconnectionToDatabase\u001b[0m\u001b[0;34m.\u001b[0m\u001b[0mcommit\u001b[0m\u001b[0;34m(\u001b[0m\u001b[0;34m)\u001b[0m\u001b[0;34m\u001b[0m\u001b[0;34m\u001b[0m\u001b[0m\n",
            "\u001b[0;31mOperationalError\u001b[0m: database is locked"
          ]
        }
      ]
    },
    {
      "cell_type": "code",
      "metadata": {
        "id": "7A5fYfewYS5s",
        "colab_type": "code",
        "colab": {}
      },
      "source": [
        "insertStatement =  \"\"\"insert into sneaker values ('98723171', 'Nike', 'red', 'Nike')\"\"\" \n",
        "cursor.execute(insertStatement)\n",
        "insertStatement =  \"\"\"insert into sneaker values ('43455434', 'Adidas', 'blue', 'Adidas')\"\"\" \n",
        "cursor.execute(insertStatement)\n",
        "insertStatement =  \"\"\"insert into sneaker values ('74382624', 'Vans', 'black', 'Vans')\"\"\" \n",
        "cursor.execute(insertStatement)\n",
        "insertStatement =  \"\"\"insert into sneaker values ('18367837', 'UnderArmour', 'yellow', 'UnderArmour')\"\"\" \n",
        "cursor.execute(insertStatement)\n",
        "insertStatement =  \"\"\"insert into sneaker values ('09735473', 'Jordan', 'purple', 'Nike')\"\"\" \n",
        "cursor.execute(insertStatement)\n",
        "\n",
        "connectionToDatabase.commit()"
      ],
      "execution_count": 0,
      "outputs": []
    },
    {
      "cell_type": "code",
      "metadata": {
        "id": "zdU4xrE2Yo6a",
        "colab_type": "code",
        "colab": {}
      },
      "source": [
        "cursor.execute('''select * from sneaker''')\n",
        "for row in cursor.fetchall():\n",
        "  print (row)"
      ],
      "execution_count": 0,
      "outputs": []
    },
    {
      "cell_type": "code",
      "metadata": {
        "id": "cYI4SL48KdLv",
        "colab_type": "code",
        "colab": {}
      },
      "source": [
        "cursor.execute('''drop table IF EXISTS ShoeCompany''')\n",
        "connectionToDatabase.commit()\n",
        "\n",
        "cursor.execute('''create table ShoeCompany (companyID text PRIMARY KEY, streetAddress text, state text, zip text)''')\n",
        "connectionToDatabase.commit()"
      ],
      "execution_count": 0,
      "outputs": []
    },
    {
      "cell_type": "code",
      "metadata": {
        "id": "4MMbLAiabeQy",
        "colab_type": "code",
        "colab": {}
      },
      "source": [
        "insertStatement =  \"\"\"insert into ShoeCompany values ('748374', 'James Avenue', 'Delaware', '17845')\"\"\" \n",
        "cursor.execute(insertStatement)\n",
        "insertStatement =  \"\"\"insert into ShoeCompany values ('927475', 'Poplar Street', 'Virginia', '19846')\"\"\" \n",
        "cursor.execute(insertStatement)\n",
        "insertStatement =  \"\"\"insert into ShoeCompany values ('554624', 'Chesnut Street', 'Kentucky', '18463')\"\"\" \n",
        "cursor.execute(insertStatement)\n",
        "insertStatement =  \"\"\"insert into ShoeCompany values ('126549', 'Fordham Boulevard', 'Michigan', '17862')\"\"\" \n",
        "cursor.execute(insertStatement)\n",
        "insertStatement =  \"\"\"insert into ShoeCompany values ('330017', 'Silk Road', 'Kansas', '28465')\"\"\" \n",
        "cursor.execute(insertStatement)\n",
        "\n",
        "connectionToDatabase.commit()"
      ],
      "execution_count": 0,
      "outputs": []
    },
    {
      "cell_type": "code",
      "metadata": {
        "id": "p6hUX57qLsgQ",
        "colab_type": "code",
        "colab": {}
      },
      "source": [
        "cursor.execute('''drop table IF EXISTS VendorInfo''')\n",
        "connectionToDatabase.commit()\n",
        "\n",
        "cursor.execute('''create table VendorInfo (Vendorinfo text PRIMARY KEY, VendorID text, state text, zip text, streetAdress text)''')\n",
        "connectionToDatabase.commit()"
      ],
      "execution_count": 0,
      "outputs": []
    },
    {
      "cell_type": "code",
      "metadata": {
        "id": "nD9SwZk5cWtb",
        "colab_type": "code",
        "colab": {}
      },
      "source": [
        "insertStatement =  \"\"\"insert into VendorInfo values ('22', 'Delaware', 'red', '17845', 'James Avenue')\"\"\" \n",
        "cursor.execute(insertStatement)\n",
        "insertStatement =  \"\"\"insert into VendorInfo values ('78', 'Virginia', 'blue', '19846', 'Poplar Street')\"\"\" \n",
        "cursor.execute(insertStatement)\n",
        "insertStatement =  \"\"\"insert into VendorInfo values ('56', 'Kentucky', 'black', '18463', 'Chesnut Street')\"\"\" \n",
        "cursor.execute(insertStatement)\n",
        "insertStatement =  \"\"\"insert into VendorInfo values ('26', 'Michigan', 'yellow', '17862', 'Fordham Boulevard')\"\"\" \n",
        "cursor.execute(insertStatement)\n",
        "insertStatement =  \"\"\"insert into VendorInfo values ('75', 'Kansas', 'purple', '28465', 'Silk Road')\"\"\" \n",
        "cursor.execute(insertStatement)\n",
        "\n",
        "connectionToDatabase.commit()"
      ],
      "execution_count": 0,
      "outputs": []
    },
    {
      "cell_type": "code",
      "metadata": {
        "id": "Zf8qtyNvK0e4",
        "colab_type": "code",
        "colab": {}
      },
      "source": [
        "cursor.execute('''drop table IF EXISTS Vendors''')\n",
        "connectionToDatabase.commit()\n",
        "\n",
        "cursor.execute('''create table Vendors (vendorID text PRIMARY KEY, Name text, URL text)''')\n",
        "connectionToDatabase.commit()"
      ],
      "execution_count": 0,
      "outputs": []
    },
    {
      "cell_type": "code",
      "metadata": {
        "id": "1nvDEJAadjEL",
        "colab_type": "code",
        "colab": {}
      },
      "source": [
        "insertStatement =  \"\"\"insert into Vendors values ('22436', 'Kordan', 'www.kordan.com')\"\"\" \n",
        "cursor.execute(insertStatement)\n",
        "insertStatement =  \"\"\"insert into Vendors values ('78463', 'Vimn', 'www.vimn.com')\"\"\" \n",
        "cursor.execute(insertStatement)\n",
        "insertStatement =  \"\"\"insert into Vendors values ('56346', 'Jumboo', 'www.jumboo.com')\"\"\" \n",
        "cursor.execute(insertStatement)\n",
        "insertStatement =  \"\"\"insert into Vendors values ('26346', 'Lunfk', 'www.lunfk.com')\"\"\" \n",
        "cursor.execute(insertStatement)\n",
        "insertStatement =  \"\"\"insert into Vendors values ('75346', 'rolin', 'www.rolin.com')\"\"\" \n",
        "cursor.execute(insertStatement)"
      ],
      "execution_count": 0,
      "outputs": []
    },
    {
      "cell_type": "code",
      "metadata": {
        "id": "qY5pw4q7LNvn",
        "colab_type": "code",
        "colab": {}
      },
      "source": [
        "cursor.execute('''drop table IF EXISTS Transactions''')\n",
        "connectionToDatabase.commit()\n",
        "\n",
        "cursor.execute('''create table Transactions (transID text PRIMARY KEY, vendorID text, sneakerID text, new text, price text, date text)''')\n",
        "connectionToDatabase.commit()"
      ],
      "execution_count": 0,
      "outputs": []
    },
    {
      "cell_type": "code",
      "metadata": {
        "id": "yiwZjVZLfE9E",
        "colab_type": "code",
        "colab": {}
      },
      "source": [
        "insertStatement =  \"\"\"insert into Transactions values ('2247736', 'Kordan', 'Nike', 'New', '100', 'March')\"\"\" \n",
        "cursor.execute(insertStatement)\n",
        "insertStatement =  \"\"\"insert into Transactions values ('73458463', 'Vimn', 'Adidas', 'New', '89', 'January')\"\"\" \n",
        "cursor.execute(insertStatement)\n",
        "insertStatement =  \"\"\"insert into Transactions values ('5466346', 'Jumboo', 'Vans', 'New', '50',' November')\"\"\" \n",
        "cursor.execute(insertStatement)\n",
        "insertStatement =  \"\"\"insert into Transactions values ('2623346', 'Lunfk', 'UnderArmour', 'New', '75', 'July')\"\"\" \n",
        "cursor.execute(insertStatement)\n",
        "insertStatement =  \"\"\"insert into Transactions values ('7535346', 'rolin', 'Jordan', 'New', '120', 'June')\"\"\" "
      ],
      "execution_count": 0,
      "outputs": []
    },
    {
      "cell_type": "markdown",
      "metadata": {
        "id": "PleFlbGWjDuz",
        "colab_type": "text"
      },
      "source": [
        "SELECT AVG(price) FROM(Transactions) ORDER BY DESC\n"
      ]
    },
    {
      "cell_type": "code",
      "metadata": {
        "id": "VXdvnbbukFlT",
        "colab_type": "code",
        "colab": {
          "base_uri": "https://localhost:8080/",
          "height": 34
        },
        "outputId": "9171685b-cf1e-4a7c-b306-9eb37f417638"
      },
      "source": [
        "cursor.execute ('''SELECT AVG(price) FROM(Transactions) ORDER BY price DESC''')\n",
        "                       "
      ],
      "execution_count": 44,
      "outputs": [
        {
          "output_type": "execute_result",
          "data": {
            "text/plain": [
              "<sqlite3.Cursor at 0x7f3ccb243420>"
            ]
          },
          "metadata": {
            "tags": []
          },
          "execution_count": 44
        }
      ]
    },
    {
      "cell_type": "markdown",
      "metadata": {
        "id": "XNEd63Nhkemi",
        "colab_type": "text"
      },
      "source": [
        "SELECT(Color) FROM (Sneaker)"
      ]
    },
    {
      "cell_type": "markdown",
      "metadata": {
        "id": "JkQVnhFYlTeU",
        "colab_type": "text"
      },
      "source": [
        "SELECT(Brand) FROM(Sneaker)\n"
      ]
    },
    {
      "cell_type": "markdown",
      "metadata": {
        "id": "czVgwhmSlljD",
        "colab_type": "text"
      },
      "source": [
        "These are important because we are curious as to what color the websites offer. We are also curious as to what brand is most popular in our database. We want to also find the price of the average transaction based off of most expensive to least expensive. All of these are interesting to this group and we are curious to see how it changes in the future."
      ]
    }
  ]
}